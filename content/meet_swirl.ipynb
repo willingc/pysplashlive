{
 "cells": [
  {
   "cell_type": "markdown",
   "metadata": {},
   "source": [
    "# Meet Swirl\n",
    "\n",
    "**Swirl** is your guide on an exploration of the Python Programming Language.\n",
    "Inspired by [PyLadies](https://pyladies.com), Swirl is a friendly, helpful, and\n",
    "patient mascot to learning Python."
   ]
  },
  {
   "cell_type": "markdown",
   "metadata": {},
   "source": [
    "![](static/swirl-mascot-1000.png)"
   ]
  },
  {
   "cell_type": "markdown",
   "metadata": {},
   "source": [
    "# Getting Started with Python using Poetry\n",
    "\n",
    "Type `import this` into the cell below. Then press `Shift + Enter` or the play button on the menu above."
   ]
  },
  {
   "cell_type": "code",
   "execution_count": null,
   "metadata": {},
   "outputs": [],
   "source": [
    "import this"
   ]
  },
  {
   "cell_type": "markdown",
   "metadata": {},
   "source": [
    "You should now **see 👀 a poem** called The Zen of Python. It was written long ago by someone who helped create the Python Programming Language."
   ]
  },
  {
   "cell_type": "markdown",
   "metadata": {},
   "source": [
    "# Try Another Programming Language\n",
    "\n",
    "Swirl love the **Python** Programming Language. She also likes to explore other languages. She loves a language called [p5js](https://p5js.org).\n",
    "\n",
    "**p5js** is a type of JavaScript used for images, animation, sound, and interactivity.\n",
    "\n",
    "Let's try it out. Double click now on the p5js notebook."
   ]
  }
 ],
 "metadata": {
  "kernelspec": {
   "display_name": "Python 3 (ipykernel)",
   "language": "python",
   "name": "python3"
  },
  "language_info": {
   "codemirror_mode": {
    "name": "ipython",
    "version": 3
   },
   "file_extension": ".py",
   "mimetype": "text/x-python",
   "name": "python",
   "nbconvert_exporter": "python",
   "pygments_lexer": "ipython3",
   "version": "3.12.0"
  }
 },
 "nbformat": 4,
 "nbformat_minor": 4
}
